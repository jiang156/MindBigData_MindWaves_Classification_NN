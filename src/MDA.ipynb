{
 "cells": [
  {
   "cell_type": "code",
   "execution_count": 1,
   "metadata": {
    "collapsed": true,
    "pycharm": {
     "is_executing": false
    }
   },
   "outputs": [],
   "source": [
    "import csv\n",
    "import pandas as pd\n",
    "import numpy as np"
   ]
  },
  {
   "cell_type": "code",
   "execution_count": 2,
   "outputs": [],
   "source": [
    "with open(\"MW.txt\") as data:\n",
    "    reader = csv.reader(data, delimiter='\\t')\n",
    "    d = list(reader)\n",
    "\n",
    "for i in d:\n",
    "    i[6]=[int(i) for i in  i[6].split(',')]\n",
    "    i[6]=i[6][0:441]"
   ],
   "metadata": {
    "collapsed": false,
    "pycharm": {
     "name": "#%%\n",
     "is_executing": false
    }
   }
  },
  {
   "cell_type": "code",
   "execution_count": 3,
   "outputs": [
    {
     "name": "stdout",
     "text": [
      "441\n",
      "['1', '1', 'MW', 'FP1', '1', '889', [83, 74, 65, 65, 66, 55, 43, 25, 18, 20, 26, 33, 41, 38, 28, 36, 55, 60, 56, 58, 72, 85, 76, 69, 74, 83, 86, 88, 97, 112, 114, 109, 99, 76, 54, 50, 66, 86, 97, 99, 96, 86, 82, 73, 69, 70, 70, 60, 65, 71, 69, 64, 57, 54, 56, 58, 50, 20, -20, -56, -74, -69, -57, -57, -60, -69, -75, -71, -59, -45, -24, 3, 13, 10, 8, 10, 5, 7, 8, -3, -22, -28, -20, 1, 3, -10, -18, -12, -19, -23, -25, -36, -45, -43, -37, -23, -4, 4, -2, -3, -3, -2, 5, 8, 7, 5, 16, 29, 34, 35, 36, 48, 68, 80, 80, 75, 68, 69, 77, 89, 105, 100, 80, 64, 56, 59, 64, 57, 49, 42, 48, 60, 75, 77, 70, 61, 45, 28, 24, 28, 29, 34, 40, 50, 42, 27, 16, 4, 1, 6, 12, 16, 20, 24, 34, 44, 54, 58, 53, 40, 24, 11, 4, -4, -14, -34, -56, -76, -77, -68, -53, -44, -38, -35, -30, -30, -30, -25, -6, 18, 29, 27, 23, 27, 41, 50, 51, 57, 57, 51, 55, 57, 58, 53, 37, 20, 9, 12, 29, 49, 49, 37, 28, 37, 57, 76, 83, 74, 68, 50, 25, 9, 13, 39, 71, 103, 121, 130, 132, 136, 146, 163, 184, 188, 171, 152, 152, 164, 166, 155, 139, 131, 133, 134, 137, 136, 122, 112, 109, 116, 125, 138, 139, 130, 116, 113, 123, 144, 162, 168, 165, 149, 124, 114, 114, 118, 61, 51, 48, 49, 43, 45, 53, 55, 39, 25, 26, 35, 41, 41, 37, 27, 21, 18, 22, 25, 13, -6, -14, -5, 10, 21, 11, 9, 7, 1, 7, 36, 59, 57, 33, 8, 4, 21, 41, 53, 48, 27, 9, 9, 20, 21, 17, 12, 9, 12, 25, 25, 12, 2, -4, -6, -6, 2, 3, -9, -21, -20, -12, 3, -8, -17, -13, -8, -9, -12, -19, -26, -36, -52, -61, -58, -49, -41, -37, -33, -12, 11, 8, -2, 5, 20, 26, 26, 18, 11, 20, 27, 29, 17, -1, -2, 5, 28, 52, 50, 28, 8, 7, 17, 9, -13, -37, -52, -57, -59, -56, -45, -34, -25, -24, -23, -23, -27, -24, -23, -34, -36, -33, -30, -34, -24, -51, -54, -50, -39, -23, -3, 11, 16, 25, 34, 33, 36, 38, 40, 35, 28, 27, 33, 39, 40, 40, 48, 53, 55, 59, 53, 44, 50, 41, 19, -6, -22, -41, -56, -72, -77, -82, -90, -103, -113, -117, -120, -123, -123, -130, -152, -161, -154, -153, -162, -173, -185, -189, -190, -189, -189, -180, -169, -177]]\n"
     ],
     "output_type": "stream"
    }
   ],
   "source": [
    "j=1000\n",
    "for m in d:\n",
    "    if int(m[5])<j:\n",
    "        j=int(m[5])\n",
    "print(j)\n",
    "print(d[1])"
   ],
   "metadata": {
    "collapsed": false,
    "pycharm": {
     "name": "#%%\n",
     "is_executing": false
    }
   }
  },
  {
   "cell_type": "code",
   "execution_count": 4,
   "outputs": [
    {
     "name": "stdout",
     "text": [
      "(67635,)\n"
     ],
     "output_type": "stream"
    },
    {
     "data": {
      "text/plain": "(67635, 441)"
     },
     "metadata": {},
     "output_type": "execute_result",
     "execution_count": 4
    }
   ],
   "source": [
    "dataset = pd.DataFrame(d)\n",
    "X = dataset.iloc[:, 6].values\n",
    "y = dataset.iloc[:, 4].values\n",
    "x=[]\n",
    "\n",
    "for i in X:\n",
    "    x.append(i)\n",
    "X = pd.DataFrame(x)\n",
    "print(y.shape)\n",
    "X.shape"
   ],
   "metadata": {
    "collapsed": false,
    "pycharm": {
     "name": "#%%\n",
     "is_executing": false
    }
   }
  },
  {
   "cell_type": "code",
   "execution_count": 5,
   "outputs": [
    {
     "data": {
      "text/plain": "0        5498\n1        5498\n2        5498\n3        5498\n4        5498\n         ... \n437      5498\n438      5498\n439      5498\n440      5498\nClass    5498\nLength: 442, dtype: int64"
     },
     "metadata": {},
     "output_type": "execute_result",
     "execution_count": 5
    }
   ],
   "source": [
    "X['Class']=y\n",
    "X['Class'].value_counts()\n",
    "X[X[\"Class\"]=='1'].count()"
   ],
   "metadata": {
    "collapsed": false,
    "pycharm": {
     "name": "#%%\n",
     "is_executing": false
    }
   }
  },
  {
   "cell_type": "code",
   "execution_count": 6,
   "outputs": [
    {
     "data": {
      "text/plain": "0        0\n1        0\n2        0\n3        0\n4        0\n        ..\n437      0\n438      0\n439      0\n440      0\nClass    0\nLength: 442, dtype: int64"
     },
     "metadata": {},
     "output_type": "execute_result",
     "execution_count": 6
    }
   ],
   "source": [
    "X.isnull().sum()"
   ],
   "metadata": {
    "collapsed": false,
    "pycharm": {
     "name": "#%%\n",
     "is_executing": false
    }
   }
  },
  {
   "cell_type": "code",
   "execution_count": 7,
   "outputs": [],
   "source": [
    "c_mean = pd.DataFrame()\n",
    "for c, f_vec in X.groupby('Class'):\n",
    "    c_mean[c] = f_vec.mean()"
   ],
   "metadata": {
    "collapsed": false,
    "pycharm": {
     "name": "#%%\n",
     "is_executing": false
    }
   }
  },
  {
   "cell_type": "code",
   "execution_count": 8,
   "outputs": [],
   "source": [
    "Sw = np.zeros((441,441))\n",
    "for c, f_vec in X.groupby('Class'):\n",
    "    f_vec = f_vec.drop(['Class'], axis=1)          \n",
    "    si = np.zeros((441,441))\n",
    "    for index, row in f_vec.iterrows():\n",
    "        x= row.values.reshape([441,1])\n",
    "        mi = c_mean[c].values.reshape([441,1])\n",
    "        si += np.matmul((x - mi),(x - mi).T)\n",
    "    Sw += si                                  "
   ],
   "metadata": {
    "collapsed": false,
    "pycharm": {
     "name": "#%%\n",
     "is_executing": false
    }
   }
  },
  {
   "cell_type": "code",
   "execution_count": 9,
   "outputs": [],
   "source": [
    "T_mean = X.mean()  \n",
    "X['Class'].value_counts()\n",
    "Sb = np.zeros((441,441))\n",
    "for c in c_mean:\n",
    "    n = X[X[\"Class\"]==str(c)].count()[\"Class\"]\n",
    "    mi= c_mean[c].values.reshape(441,1)\n",
    "    m = T_mean.values.reshape(441,1)\n",
    "    Sb += n * np.matmul((mi - m),(mi - m).T)\n",
    "\n",
    "St =Sw + Sb\n",
    "X = X.drop(labels='Class', axis=1)"
   ],
   "metadata": {
    "collapsed": false,
    "pycharm": {
     "name": "#%%\n",
     "is_executing": false
    }
   }
  },
  {
   "cell_type": "code",
   "execution_count": 10,
   "outputs": [
    {
     "name": "stdout",
     "text": [
      "(67635, 10)\n"
     ],
     "output_type": "stream"
    }
   ],
   "source": [
    "eig_val, eig_vec = np.linalg.eig(np.matmul(np.linalg.inv(Sw),Sb))\n",
    "eig_p = [(np.abs(eig_val[i]), eig_vec[:,i]) for i in range(len(eig_val))]\n",
    "eig_p = sorted(eig_p, key=lambda x: x[0], reverse=True)\n",
    "W=np.vstack((eig_p[0][1],eig_p[1][1],eig_p[2][1],eig_p[3][1],eig_p[4][1],eig_p[5][1],eig_p[6][1],eig_p[7][1],eig_p[8][1],eig_p[9][1])).real\n",
    "Xp = np.array(np.dot(X,W.T))\n",
    "print(Xp.shape)\n",
    "#total number of classes = 11"
   ],
   "metadata": {
    "collapsed": false,
    "pycharm": {
     "name": "#%%\n",
     "is_executing": false
    }
   }
  },
  {
   "cell_type": "code",
   "execution_count": 11,
   "outputs": [],
   "source": [
    "from sklearn.model_selection import train_test_split, GridSearchCV\n",
    "from sklearn.svm import SVC \n",
    "from sklearn import preprocessing\n",
    "Xp = preprocessing.scale(Xp)\n",
    "X_train, X_test, y_train, y_test = train_test_split(Xp, y, test_size = 0.20)"
   ],
   "metadata": {
    "collapsed": false,
    "pycharm": {
     "name": "#%%\n",
     "is_executing": false
    }
   }
  },
  {
   "cell_type": "code",
   "execution_count": 12,
   "outputs": [
    {
     "name": "stderr",
     "text": [
      "C:\\ProgramData\\Anaconda3\\lib\\site-packages\\sklearn\\svm\\base.py:193: FutureWarning: The default value of gamma will change from 'auto' to 'scale' in version 0.22 to account better for unscaled features. Set gamma explicitly to 'auto' or 'scale' to avoid this warning.\n",
      "  \"avoid this warning.\", FutureWarning)\n"
     ],
     "output_type": "stream"
    },
    {
     "name": "stdout",
     "text": [
      "0.24920529311746878\n"
     ],
     "output_type": "stream"
    }
   ],
   "source": [
    "svclassifier = SVC(kernel='rbf')\n",
    "svclassifier.fit(X_train, y_train)\n",
    "y_pred = svclassifier.predict(X_test)\n",
    "score=svclassifier.score(X_test,y_test)\n",
    "print(score)\n",
    "\n"
   ],
   "metadata": {
    "collapsed": false,
    "pycharm": {
     "name": "#%%\n",
     "is_executing": false
    }
   }
  },
  {
   "cell_type": "code",
   "execution_count": 13,
   "outputs": [
    {
     "name": "stdout",
     "text": [
      "[[2123   48   72   36   24   54   30   23   30   40   23]\n",
      " [ 241  151  124   69   82   90   74   91   72   73   65]\n",
      " [ 259   87  237   71   84   80   85   63   59   66   46]\n",
      " [ 230   98  120  102   75   99   61   88   67   62   67]\n",
      " [ 196   99  146   61  106   68   71   70   67   87   53]\n",
      " [ 235  107   88   76   73  145   50   63   89   78   67]\n",
      " [ 231  106  141   83  100  100  117   79   80   86   60]\n",
      " [ 206   95  118   67   73  107   72   88   72   72   54]\n",
      " [ 207  104  123   84   89  124   58   94  105   76   69]\n",
      " [ 248  105  142   70   75  104   73   72   50  108   73]\n",
      " [ 214  115  134   67   83  116   74   73   82   84   89]]\n",
      "              precision    recall  f1-score   support\n",
      "\n",
      "          -1       0.48      0.85      0.62      2503\n",
      "           0       0.14      0.13      0.13      1132\n",
      "           1       0.16      0.21      0.18      1137\n",
      "           2       0.13      0.10      0.11      1069\n",
      "           3       0.12      0.10      0.11      1024\n",
      "           4       0.13      0.14      0.13      1071\n",
      "           5       0.15      0.10      0.12      1183\n",
      "           6       0.11      0.09      0.10      1024\n",
      "           7       0.14      0.09      0.11      1133\n",
      "           8       0.13      0.10      0.11      1120\n",
      "           9       0.13      0.08      0.10      1131\n",
      "\n",
      "    accuracy                           0.25     13527\n",
      "   macro avg       0.17      0.18      0.17     13527\n",
      "weighted avg       0.20      0.25      0.21     13527\n",
      "\n"
     ],
     "output_type": "stream"
    }
   ],
   "source": [
    "from sklearn.metrics import classification_report, confusion_matrix\n",
    "print(confusion_matrix(y_test,y_pred))\n",
    "print(classification_report(y_test,y_pred))\n"
   ],
   "metadata": {
    "collapsed": false,
    "pycharm": {
     "name": "#%%\n",
     "is_executing": false
    }
   }
  },
  {
   "cell_type": "code",
   "execution_count": null,
   "outputs": [],
   "source": [
    "\n"
   ],
   "metadata": {
    "collapsed": false,
    "pycharm": {
     "name": "#%%\n"
    }
   }
  }
 ],
 "metadata": {
  "kernelspec": {
   "display_name": "Python 3",
   "language": "python",
   "name": "python3"
  },
  "language_info": {
   "codemirror_mode": {
    "name": "ipython",
    "version": 2
   },
   "file_extension": ".py",
   "mimetype": "text/x-python",
   "name": "python",
   "nbconvert_exporter": "python",
   "pygments_lexer": "ipython2",
   "version": "2.7.6"
  },
  "pycharm": {
   "stem_cell": {
    "cell_type": "raw",
    "source": [],
    "metadata": {
     "collapsed": false
    }
   }
  }
 },
 "nbformat": 4,
 "nbformat_minor": 0
}