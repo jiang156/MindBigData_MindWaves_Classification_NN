{
 "cells": [
  {
   "cell_type": "code",
   "execution_count": 1,
   "metadata": {
    "colab": {
     "base_uri": "https://localhost:8080/",
     "height": 126
    },
    "colab_type": "code",
    "id": "yp825FIuDTwv",
    "outputId": "cb49f6cd-0771-4abb-9771-cc6eb6041476",
    "pycharm": {
     "is_executing": false,
     "name": "#%%\n"
    }
   },
   "outputs": [
    {
     "name": "stderr",
     "output_type": "stream",
     "text": [
      "Using TensorFlow backend.\n"
     ]
    }
   ],
   "source": [
    "import csv\n",
    "import pandas as pd\n",
    "import numpy as np\n",
    "import keras"
   ]
  },
  {
   "cell_type": "code",
   "execution_count": 2,
   "metadata": {
    "colab": {},
    "colab_type": "code",
    "id": "-vluFGFQDTwz",
    "pycharm": {
     "is_executing": false,
     "name": "#%%\n"
    }
   },
   "outputs": [],
   "source": [
    "from sklearn.metrics import accuracy_score, confusion_matrix\n",
    "from sklearn.utils.multiclass import unique_labels\n",
    "\n",
    "with open(\"MW.txt\") as data:\n",
    "    reader = csv.reader(data, delimiter='\\t')\n",
    "    d = list(reader)\n",
    "for i in d:\n",
    "    i[6]=[int(i) for i in  i[6].split(',')]\n",
    "    i[6]=i[6][0:441]"
   ]
  },
  {
   "cell_type": "code",
   "execution_count": 3,
   "metadata": {
    "colab": {
     "base_uri": "https://localhost:8080/",
     "height": 72
    },
    "colab_type": "code",
    "id": "VnWBQy5_DTw2",
    "outputId": "0001c7d1-c4e0-45c3-cdd4-c68d3c1103f7",
    "pycharm": {
     "is_executing": false,
     "name": "#%%\n"
    }
   },
   "outputs": [
    {
     "name": "stdout",
     "output_type": "stream",
     "text": [
      "441\n",
      "['1', '1', 'MW', 'FP1', '1', '889', [83, 74, 65, 65, 66, 55, 43, 25, 18, 20, 26, 33, 41, 38, 28, 36, 55, 60, 56, 58, 72, 85, 76, 69, 74, 83, 86, 88, 97, 112, 114, 109, 99, 76, 54, 50, 66, 86, 97, 99, 96, 86, 82, 73, 69, 70, 70, 60, 65, 71, 69, 64, 57, 54, 56, 58, 50, 20, -20, -56, -74, -69, -57, -57, -60, -69, -75, -71, -59, -45, -24, 3, 13, 10, 8, 10, 5, 7, 8, -3, -22, -28, -20, 1, 3, -10, -18, -12, -19, -23, -25, -36, -45, -43, -37, -23, -4, 4, -2, -3, -3, -2, 5, 8, 7, 5, 16, 29, 34, 35, 36, 48, 68, 80, 80, 75, 68, 69, 77, 89, 105, 100, 80, 64, 56, 59, 64, 57, 49, 42, 48, 60, 75, 77, 70, 61, 45, 28, 24, 28, 29, 34, 40, 50, 42, 27, 16, 4, 1, 6, 12, 16, 20, 24, 34, 44, 54, 58, 53, 40, 24, 11, 4, -4, -14, -34, -56, -76, -77, -68, -53, -44, -38, -35, -30, -30, -30, -25, -6, 18, 29, 27, 23, 27, 41, 50, 51, 57, 57, 51, 55, 57, 58, 53, 37, 20, 9, 12, 29, 49, 49, 37, 28, 37, 57, 76, 83, 74, 68, 50, 25, 9, 13, 39, 71, 103, 121, 130, 132, 136, 146, 163, 184, 188, 171, 152, 152, 164, 166, 155, 139, 131, 133, 134, 137, 136, 122, 112, 109, 116, 125, 138, 139, 130, 116, 113, 123, 144, 162, 168, 165, 149, 124, 114, 114, 118, 61, 51, 48, 49, 43, 45, 53, 55, 39, 25, 26, 35, 41, 41, 37, 27, 21, 18, 22, 25, 13, -6, -14, -5, 10, 21, 11, 9, 7, 1, 7, 36, 59, 57, 33, 8, 4, 21, 41, 53, 48, 27, 9, 9, 20, 21, 17, 12, 9, 12, 25, 25, 12, 2, -4, -6, -6, 2, 3, -9, -21, -20, -12, 3, -8, -17, -13, -8, -9, -12, -19, -26, -36, -52, -61, -58, -49, -41, -37, -33, -12, 11, 8, -2, 5, 20, 26, 26, 18, 11, 20, 27, 29, 17, -1, -2, 5, 28, 52, 50, 28, 8, 7, 17, 9, -13, -37, -52, -57, -59, -56, -45, -34, -25, -24, -23, -23, -27, -24, -23, -34, -36, -33, -30, -34, -24, -51, -54, -50, -39, -23, -3, 11, 16, 25, 34, 33, 36, 38, 40, 35, 28, 27, 33, 39, 40, 40, 48, 53, 55, 59, 53, 44, 50, 41, 19, -6, -22, -41, -56, -72, -77, -82, -90, -103, -113, -117, -120, -123, -123, -130, -152, -161, -154, -153, -162, -173, -185, -189, -190, -189, -189, -180, -169, -177]]\n"
     ]
    }
   ],
   "source": [
    "j=1000\n",
    "for m in d:\n",
    "    if int(m[5])<j:\n",
    "        j=int(m[5])\n",
    "print(j)\n",
    "print(d[1])"
   ]
  },
  {
   "cell_type": "code",
   "execution_count": 22,
   "metadata": {
    "colab": {
     "base_uri": "https://localhost:8080/",
     "height": 52
    },
    "colab_type": "code",
    "id": "LfeSDgj5DTw5",
    "outputId": "60cf37b3-cbf5-446f-9101-63f27769d7e2",
    "pycharm": {
     "is_executing": false,
     "name": "#%%\n"
    }
   },
   "outputs": [
    {
     "name": "stdout",
     "output_type": "stream",
     "text": [
      "(67635, 1)\n"
     ]
    },
    {
     "data": {
      "text/plain": [
       "(67635, 441)"
      ]
     },
     "execution_count": 22,
     "metadata": {},
     "output_type": "execute_result"
    }
   ],
   "source": [
    "dataset = pd.DataFrame(d)\n",
    "X = dataset.iloc[:, 6].values\n",
    "y = dataset.iloc[:, 4].values\n",
    "x=[]\n",
    "Y=[]\n",
    "for i in y:\n",
    "    if i == '-1':\n",
    "        Y.append(1)\n",
    "    else:\n",
    "        Y.append('0')\n",
    "for i in X:\n",
    "    x.append(i)\n",
    "X = pd.DataFrame(x)\n",
    "#Y = keras.utils.to_categorical(Y)\n",
    "y = pd.DataFrame(Y)\n",
    "print(y.shape)\n",
    "X.shape"
   ]
  },
  {
   "cell_type": "code",
   "execution_count": 24,
   "metadata": {
    "colab": {
     "base_uri": "https://localhost:8080/",
     "height": 248
    },
    "colab_type": "code",
    "id": "SHieAUs6DTw8",
    "outputId": "b6c6e715-db2d-40e2-ed12-36090b8ba023",
    "pycharm": {
     "is_executing": false,
     "name": "#%%\n"
    }
   },
   "outputs": [
    {
     "name": "stdout",
     "output_type": "stream",
     "text": [
      "0      38\n",
      "1      48\n",
      "2      51\n",
      "3      44\n",
      "4      48\n",
      "       ..\n",
      "436   -62\n",
      "437   -60\n",
      "438   -53\n",
      "439   -55\n",
      "440   -73\n",
      "Name: 0, Length: 441, dtype: int64\n",
      "0        0\n",
      "1        0\n",
      "2        0\n",
      "3        0\n",
      "4        0\n",
      "        ..\n",
      "67630    1\n",
      "67631    1\n",
      "67632    1\n",
      "67633    1\n",
      "67634    1\n",
      "Name: 0, Length: 67635, dtype: object\n"
     ]
    }
   ],
   "source": [
    "print(X.T[0])\n",
    "print(y[0])\n"
   ]
  },
  {
   "cell_type": "code",
   "execution_count": 25,
   "metadata": {
    "colab": {
     "base_uri": "https://localhost:8080/",
     "height": 444
    },
    "colab_type": "code",
    "id": "FFBRkpQwDTw_",
    "outputId": "4e0e2ad8-7442-4167-e4f4-cd9cf0a6b7db",
    "pycharm": {
     "is_executing": false,
     "name": "#%%\n"
    }
   },
   "outputs": [
    {
     "name": "stdout",
     "output_type": "stream",
     "text": [
      "0      38\n",
      "1      48\n",
      "2      51\n",
      "3      44\n",
      "4      48\n",
      "       ..\n",
      "436   -62\n",
      "437   -60\n",
      "438   -53\n",
      "439   -55\n",
      "440   -73\n",
      "Name: 0, Length: 441, dtype: int64\n"
     ]
    },
    {
     "data": {
      "text/plain": [
       "0      0\n",
       "1      0\n",
       "2      0\n",
       "3      0\n",
       "4      0\n",
       "      ..\n",
       "436    0\n",
       "437    0\n",
       "438    0\n",
       "439    0\n",
       "440    0\n",
       "Length: 441, dtype: int64"
      ]
     },
     "execution_count": 25,
     "metadata": {},
     "output_type": "execute_result"
    }
   ],
   "source": [
    "print(X.T[0])\n",
    "X.isnull().sum()"
   ]
  },
  {
   "cell_type": "code",
   "execution_count": 29,
   "metadata": {
    "colab": {
     "base_uri": "https://localhost:8080/",
     "height": 88
    },
    "colab_type": "code",
    "id": "WkdBFB_hDTxC",
    "outputId": "f54a108a-414c-4f3c-eb6e-388a5dad9e8c",
    "pycharm": {
     "is_executing": false,
     "name": "#%%\n"
    }
   },
   "outputs": [
    {
     "name": "stdout",
     "output_type": "stream",
     "text": [
      "(47344, 2)\n",
      "(47344, 441, 1)\n",
      "(20291, 2)\n",
      "(20291, 441, 1)\n"
     ]
    }
   ],
   "source": [
    "from sklearn.model_selection import train_test_split\n",
    "import tensorflow as tf\n",
    "import keras\n",
    "from keras.utils import np_utils\n",
    "from keras.models import Sequential\n",
    "from keras.layers import *\n",
    "y=np.array(y)\n",
    "X_train, X_test, y_train, y_test = train_test_split(X, y, test_size=0.3, random_state=0)\n",
    "\n",
    "#y_test = np_utils.to_categorical(y_test)\n",
    "#y_train = np_utils.to_categorical(y_train)\n",
    "\n",
    "X_train=np.array(X_train)\n",
    "\n",
    "X_train = X_train.reshape((X_train.shape[0],X_train.shape[1],1))\n",
    "\n",
    "X_test = np.array(X_test)\n",
    "X_test = X_test.reshape((X_test.shape[0],X_test.shape[1],1))\n",
    "y_train = keras.utils.to_categorical(y_train)\n",
    "print(y_train.shape)\n",
    "print(X_train.shape)\n",
    "y_plot = np.array(y_test)\n",
    "y_test = keras.utils.to_categorical(y_test)\n",
    "print(y_test.shape)\n",
    "print(X_test.shape)"
   ]
  },
  {
   "cell_type": "code",
   "execution_count": 30,
   "metadata": {
    "colab": {
     "base_uri": "https://localhost:8080/",
     "height": 621
    },
    "colab_type": "code",
    "id": "kuPpR5RLDTxG",
    "outputId": "5d4f1e8a-9722-4513-af30-0e3accfb2b42",
    "pycharm": {
     "is_executing": false
    }
   },
   "outputs": [
    {
     "name": "stdout",
     "output_type": "stream",
     "text": [
      "Model: \"sequential_4\"\n",
      "_________________________________________________________________\n",
      "Layer (type)                 Output Shape              Param #   \n",
      "=================================================================\n",
      "conv1d_15 (Conv1D)           (None, 431, 256)          3072      \n",
      "_________________________________________________________________\n",
      "conv1d_16 (Conv1D)           (None, 421, 64)           180288    \n",
      "_________________________________________________________________\n",
      "average_pooling1d_7 (Average (None, 210, 64)           0         \n",
      "_________________________________________________________________\n",
      "dropout_7 (Dropout)          (None, 210, 64)           0         \n",
      "_________________________________________________________________\n",
      "conv1d_17 (Conv1D)           (None, 204, 128)          57472     \n",
      "_________________________________________________________________\n",
      "conv1d_18 (Conv1D)           (None, 198, 128)          114816    \n",
      "_________________________________________________________________\n",
      "average_pooling1d_8 (Average (None, 99, 128)           0         \n",
      "_________________________________________________________________\n",
      "flatten_4 (Flatten)          (None, 12672)             0         \n",
      "_________________________________________________________________\n",
      "dense_13 (Dense)             (None, 1024)              12977152  \n",
      "_________________________________________________________________\n",
      "dense_14 (Dense)             (None, 512)               524800    \n",
      "_________________________________________________________________\n",
      "dropout_8 (Dropout)          (None, 512)               0         \n",
      "_________________________________________________________________\n",
      "dense_15 (Dense)             (None, 128)               65664     \n",
      "_________________________________________________________________\n",
      "dense_16 (Dense)             (None, 2)                 258       \n",
      "=================================================================\n",
      "Total params: 13,923,522\n",
      "Trainable params: 13,923,522\n",
      "Non-trainable params: 0\n",
      "_________________________________________________________________\n"
     ]
    }
   ],
   "source": [
    "model = Sequential()\n",
    "model.add(Conv1D(filters=256, kernel_size=11, activation='relu', input_shape=(441, 1)))\n",
    "#model.add(Conv1D(filters=128, kernel_size=11, activation='relu'))\n",
    "model.add(Conv1D(filters=64, kernel_size=11, activation='relu'))\n",
    "model.add(AveragePooling1D(pool_size=2))\n",
    "model.add(Dropout(0.5))\n",
    "model.add(Conv1D(filters=128, kernel_size=7, activation='relu'))\n",
    "model.add(Conv1D(filters=128, kernel_size=7, activation='relu'))\n",
    "\n",
    "model.add(AveragePooling1D(pool_size=2))\n",
    "#model.add(MaxPooling1D(pool_size=2))\n",
    "\n",
    "model.add(Flatten())\n",
    "model.add(Dense(1024, activation='relu'))\n",
    "model.add(Dense(512, activation='relu'))\n",
    "model.add(Dropout(0.5))\n",
    "model.add(Dense(128, activation='relu'))\n",
    "model.add(Dense(2, activation='sigmoid'))\n",
    "model.compile(loss='binary_crossentropy' , optimizer=keras.optimizers.Adam(learning_rate=0.001), metrics=['accuracy'])\n",
    "model.summary()\n",
    "\n",
    "#keras.optimizers.Adadelta(learning_rate=0.001, rho=0.95, epsilon=1e-07, name=\"Adadelta\", **kwargs)"
   ]
  },
  {
   "cell_type": "code",
   "execution_count": 32,
   "metadata": {
    "colab": {
     "base_uri": "https://localhost:8080/",
     "height": 52
    },
    "colab_type": "code",
    "id": "i_MUqweXDTxJ",
    "outputId": "75146b3d-776e-4ec2-ee89-9c9c6d358f2c",
    "pycharm": {
     "is_executing": false
    },
    "scrolled": false
   },
   "outputs": [
    {
     "name": "stdout",
     "output_type": "stream",
     "text": [
      "Epoch 1/10\n",
      "47344/47344 [==============================] - 41s 871us/step - loss: 0.2663 - accuracy: 0.9025\n",
      "Epoch 2/10\n",
      "47344/47344 [==============================] - 41s 874us/step - loss: 0.2123 - accuracy: 0.9217\n",
      "Epoch 3/10\n",
      "47344/47344 [==============================] - 41s 875us/step - loss: 0.1928 - accuracy: 0.9293\n",
      "Epoch 4/10\n",
      "47344/47344 [==============================] - 42s 877us/step - loss: 0.1897 - accuracy: 0.9310\n",
      "Epoch 5/10\n",
      "47344/47344 [==============================] - 42s 880us/step - loss: 0.1763 - accuracy: 0.9351\n",
      "Epoch 6/10\n",
      "47344/47344 [==============================] - 42s 880us/step - loss: 0.1572 - accuracy: 0.9438\n",
      "Epoch 7/10\n",
      "47344/47344 [==============================] - 42s 888us/step - loss: 0.1424 - accuracy: 0.9510\n",
      "Epoch 8/10\n",
      "47344/47344 [==============================] - 42s 884us/step - loss: 0.1323 - accuracy: 0.9546\n",
      "Epoch 9/10\n",
      "47344/47344 [==============================] - 42s 881us/step - loss: 0.1205 - accuracy: 0.9588\n",
      "Epoch 10/10\n",
      "47344/47344 [==============================] - 42s 884us/step - loss: 0.1142 - accuracy: 0.9614\n",
      "Test accuracy :  0.9341580271720886\n"
     ]
    }
   ],
   "source": [
    "# fit network\n",
    "model.fit(X_train, y_train, epochs = 10, batch_size = 256)\n",
    "# evaluate model\n",
    "_, accuracy = model.evaluate(X_test, y_test, batch_size=256, verbose=0)\n",
    "print (\"Test accuracy : \", accuracy)\n"
   ]
  },
  {
   "cell_type": "code",
   "execution_count": 33,
   "metadata": {
    "colab": {},
    "colab_type": "code",
    "id": "aCidYHeqgZTj",
    "pycharm": {
     "is_executing": false
    },
    "scrolled": true
   },
   "outputs": [
    {
     "name": "stdout",
     "output_type": "stream",
     "text": [
      "[0 0 0 ... 0 0 0]\n",
      "---------------------\n",
      "[[1. 0.]\n",
      " [1. 0.]\n",
      " [1. 0.]\n",
      " ...\n",
      " [1. 0.]\n",
      " [1. 0.]\n",
      " [1. 0.]]\n"
     ]
    }
   ],
   "source": [
    "ynew = model.predict_classes(X_test)\n",
    "print(ynew)\n",
    "print(\"---------------------\")\n",
    "print(y_test)"
   ]
  },
  {
   "cell_type": "code",
   "execution_count": 34,
   "metadata": {
    "pycharm": {
     "is_executing": false,
     "name": "#%%\n"
    }
   },
   "outputs": [
    {
     "name": "stdout",
     "output_type": "stream",
     "text": [
      "  Category    TP     FP     TN    FN\n",
      "0        0     0  17684   2607     0\n",
      "1        1  2570     37  16385  1299 \n",
      "\n",
      "\n",
      "Confusion matrix, without normalization\n",
      "[[16385    37]\n",
      " [ 1299  2570]]\n",
      "Accuracy:  0.9341580010842245\n"
     ]
    },
    {
     "name": "stderr",
     "output_type": "stream",
     "text": [
      "C:\\ProgramData\\Anaconda3\\lib\\site-packages\\ipykernel_launcher.py:90: UserWarning: Matplotlib is currently using module://ipykernel.pylab.backend_inline, which is a non-GUI backend, so cannot show the figure.\n"
     ]
    },
    {
     "data": {
      "image/png": "[encoded data removed]",
      "text/plain": [
       "<Figure size 432x288 with 2 Axes>"
      ]
     },
     "metadata": {
      "needs_background": "light"
     },
     "output_type": "display_data"
    }
   ],
   "source": [
    "\n",
    "z=0\n",
    "acc=0\n",
    "\n",
    "import matplotlib.pyplot as plt\n",
    "def plot_confusion_matrix(y_true, y_pred, classes, normalize=False, title=None, cmap=plt.cm.Blues):\n",
    "    \"\"\"\n",
    "    This function prints and plots the confusion matrix.\n",
    "    Normalization can be applied by setting `normalize=True`.\n",
    "    \"\"\"\n",
    "    if not title:\n",
    "        if normalize:\n",
    "            title = 'Normalized confusion matrix'\n",
    "        else:\n",
    "            title = 'Confusion matrix, without normalization'\n",
    "\n",
    "    # Compute confusion matrix\n",
    "    cm = confusion_matrix(y_true, y_pred)\n",
    "    # Only use the labels that appear in the data\n",
    "    classes = classes[unique_labels(y_true, y_pred)]\n",
    "    if normalize:\n",
    "        cm = cm.astype('float') / cm.sum(axis=1)[:, np.newaxis]\n",
    "        print(\"Normalized confusion matrix\")\n",
    "    else:\n",
    "        print('Confusion matrix, without normalization')\n",
    "\n",
    "    print(cm)\n",
    "\n",
    "    fig, ax = plt.subplots()\n",
    "    im = ax.imshow(cm, interpolation='nearest', cmap=cmap)\n",
    "    ax.figure.colorbar(im, ax=ax)\n",
    "    # We want to show all ticks...\n",
    "    ax.set(xticks=np.arange(cm.shape[1]),\n",
    "           yticks=np.arange(cm.shape[0]),\n",
    "           # ... and label them with the respective list entries\n",
    "           xticklabels=classes, yticklabels=classes,\n",
    "           title=title,\n",
    "           ylabel='True label',\n",
    "           xlabel='Predicted label')\n",
    "\n",
    "    # Rotate the tick labels and set their alignment.\n",
    "    plt.setp(ax.get_xticklabels(), rotation=45, ha=\"right\",\n",
    "             rotation_mode=\"anchor\")\n",
    "\n",
    "    # Loop over data dimensions and create text annotations.\n",
    "    fmt = '.2f' if normalize else 'd'\n",
    "    thresh = cm.max() / 2.\n",
    "    for i in range(cm.shape[0]):\n",
    "        for j in range(cm.shape[1]):\n",
    "            ax.text(j, i, format(cm[i, j], fmt),\n",
    "                    ha=\"center\", va=\"center\",\n",
    "                    color=\"white\" if cm[i, j] > thresh else \"black\")\n",
    "    fig.tight_layout()\n",
    "    return ax\n",
    "\n",
    "\n",
    "def perf_measure(y_actual, y_hat):\n",
    "    TP, FP, TN, FN = 0, 0, 0, 0\n",
    "    for i in range(len(y_hat)): \n",
    "        if y_actual[i]==y_hat[i]==1:\n",
    "            TP += 1\n",
    "        elif y_hat[i]==1 and y_actual[i]!=y_hat[i]:\n",
    "            FP += 1\n",
    "        elif y_actual[i]==y_hat[i]==0:\n",
    "            TN += 1\n",
    "        elif y_hat[i]==0 and y_actual[i]!=y_hat[i]:\n",
    "            FN += 1\n",
    "\n",
    "    return [TP, FP, TN, FN]\n",
    "\n",
    "def display_results(test_labels, categories, predicted_categories):\n",
    "    df = pd.DataFrame(columns= ['Category']+list(categories))\n",
    "\n",
    "    cols = ['Category']+['TP', 'FP', 'TN', 'FN']\n",
    "    df = pd.DataFrame(columns= cols)\n",
    "    for el in categories:\n",
    "        temp_y_test = (test_labels == el).astype(int)\n",
    "        temp_preds = (predicted_categories == el).astype(int)\n",
    "        row = [el]+ perf_measure(temp_y_test, temp_preds)\n",
    "        df = df.append(pd.Series(row, index=cols), ignore_index=True)\n",
    "    print(df, '\\n\\n')\n",
    "\n",
    "    for i in range(len(categories)):\n",
    "        test_labels[test_labels==categories[i]] = i\n",
    "        predicted_categories[predicted_categories==categories[i]] = i\n",
    "    test_labels, predicted_categories = test_labels.astype(int), predicted_categories.astype(int)\n",
    "\n",
    "    class_names=np.array(categories)\n",
    "    plot_confusion_matrix(test_labels, predicted_categories, classes=class_names)\n",
    "    fig = plt.gcf()\n",
    "    fig.show()\n",
    "    \n",
    "    acc = accuracy_score(y_pred=predicted_categories, y_true=test_labels) #you need to put your own array names here\n",
    "    print('Accuracy: ', acc)\n",
    "    \n",
    "    return\n",
    "\n",
    "display_results(y_plot, [0,1], ynew)"
   ]
  }
 ],
 "metadata": {
  "colab": {
   "collapsed_sections": [],
   "name": "conv_NN.ipynb",
   "provenance": []
  },
  "kernelspec": {
   "display_name": "Python 3",
   "language": "python",
   "name": "python3"
  },
  "language_info": {
   "codemirror_mode": {
    "name": "ipython",
    "version": 3
   },
   "file_extension": ".py",
   "mimetype": "text/x-python",
   "name": "python",
   "nbconvert_exporter": "python",
   "pygments_lexer": "ipython3",
   "version": "3.7.4"
  },
  "pycharm": {
   "stem_cell": {
    "cell_type": "raw",
    "source": [],
    "metadata": {
     "collapsed": false
    }
   }
  }
 },
 "nbformat": 4,
 "nbformat_minor": 1
}