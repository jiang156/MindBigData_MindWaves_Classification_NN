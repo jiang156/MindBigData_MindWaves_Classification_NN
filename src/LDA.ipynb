{
 "cells": [
  {
   "cell_type": "code",
   "execution_count": 1,
   "metadata": {
    "collapsed": true,
    "pycharm": {
     "is_executing": false
    }
   },
   "outputs": [],
   "source": [
    "import csv\n",
    "import pandas as pd\n",
    "with open(\"MW.txt\") as data:\n",
    "    reader = csv.reader(data, delimiter='\\t')\n",
    "    d = list(reader)\n",
    "\n",
    "for i in d:\n",
    "    i[6]=[int(i) for i in  i[6].split(',')]\n",
    "    i[6]=i[6][0:441]\n",
    "#d[1][6] = [int(i) for i in  d[1][6].split(',')] "
   ]
  },
  {
   "cell_type": "code",
   "execution_count": 2,
   "outputs": [
    {
     "name": "stdout",
     "text": [
      "441\n",
      "['1', '1', 'MW', 'FP1', '1', '889', [83, 74, 65, 65, 66, 55, 43, 25, 18, 20, 26, 33, 41, 38, 28, 36, 55, 60, 56, 58, 72, 85, 76, 69, 74, 83, 86, 88, 97, 112, 114, 109, 99, 76, 54, 50, 66, 86, 97, 99, 96, 86, 82, 73, 69, 70, 70, 60, 65, 71, 69, 64, 57, 54, 56, 58, 50, 20, -20, -56, -74, -69, -57, -57, -60, -69, -75, -71, -59, -45, -24, 3, 13, 10, 8, 10, 5, 7, 8, -3, -22, -28, -20, 1, 3, -10, -18, -12, -19, -23, -25, -36, -45, -43, -37, -23, -4, 4, -2, -3, -3, -2, 5, 8, 7, 5, 16, 29, 34, 35, 36, 48, 68, 80, 80, 75, 68, 69, 77, 89, 105, 100, 80, 64, 56, 59, 64, 57, 49, 42, 48, 60, 75, 77, 70, 61, 45, 28, 24, 28, 29, 34, 40, 50, 42, 27, 16, 4, 1, 6, 12, 16, 20, 24, 34, 44, 54, 58, 53, 40, 24, 11, 4, -4, -14, -34, -56, -76, -77, -68, -53, -44, -38, -35, -30, -30, -30, -25, -6, 18, 29, 27, 23, 27, 41, 50, 51, 57, 57, 51, 55, 57, 58, 53, 37, 20, 9, 12, 29, 49, 49, 37, 28, 37, 57, 76, 83, 74, 68, 50, 25, 9, 13, 39, 71, 103, 121, 130, 132, 136, 146, 163, 184, 188, 171, 152, 152, 164, 166, 155, 139, 131, 133, 134, 137, 136, 122, 112, 109, 116, 125, 138, 139, 130, 116, 113, 123, 144, 162, 168, 165, 149, 124, 114, 114, 118, 61, 51, 48, 49, 43, 45, 53, 55, 39, 25, 26, 35, 41, 41, 37, 27, 21, 18, 22, 25, 13, -6, -14, -5, 10, 21, 11, 9, 7, 1, 7, 36, 59, 57, 33, 8, 4, 21, 41, 53, 48, 27, 9, 9, 20, 21, 17, 12, 9, 12, 25, 25, 12, 2, -4, -6, -6, 2, 3, -9, -21, -20, -12, 3, -8, -17, -13, -8, -9, -12, -19, -26, -36, -52, -61, -58, -49, -41, -37, -33, -12, 11, 8, -2, 5, 20, 26, 26, 18, 11, 20, 27, 29, 17, -1, -2, 5, 28, 52, 50, 28, 8, 7, 17, 9, -13, -37, -52, -57, -59, -56, -45, -34, -25, -24, -23, -23, -27, -24, -23, -34, -36, -33, -30, -34, -24, -51, -54, -50, -39, -23, -3, 11, 16, 25, 34, 33, 36, 38, 40, 35, 28, 27, 33, 39, 40, 40, 48, 53, 55, 59, 53, 44, 50, 41, 19, -6, -22, -41, -56, -72, -77, -82, -90, -103, -113, -117, -120, -123, -123, -130, -152, -161, -154, -153, -162, -173, -185, -189, -190, -189, -189, -180, -169, -177]]\n"
     ],
     "output_type": "stream"
    }
   ],
   "source": [
    "j=1000\n",
    "for m in d:\n",
    "    if int(m[5])<j:\n",
    "        j=int(m[5])\n",
    "print(j)\n",
    "print(d[1])"
   ],
   "metadata": {
    "collapsed": false,
    "pycharm": {
     "name": "#%%\n",
     "is_executing": false
    }
   }
  },
  {
   "cell_type": "code",
   "execution_count": 3,
   "outputs": [
    {
     "name": "stdout",
     "text": [
      "(67635, 1)\n"
     ],
     "output_type": "stream"
    },
    {
     "data": {
      "text/plain": "(67635, 441)"
     },
     "metadata": {},
     "output_type": "execute_result",
     "execution_count": 3
    }
   ],
   "source": [
    "dataset = pd.DataFrame(d)\n",
    "X = dataset.iloc[:, 6].values\n",
    "y = dataset.iloc[:, 4].values\n",
    "x=[]\n",
    "Y=[]\n",
    "for i in y:\n",
    "    if i == '1':\n",
    "        Y.append(i)\n",
    "    else:\n",
    "        Y.append('0')\n",
    "for i in X:\n",
    "    x.append(i)\n",
    "X = pd.DataFrame(x)\n",
    "y = pd.DataFrame(Y)\n",
    "print(y.shape)\n",
    "X.shape"
   ],
   "metadata": {
    "collapsed": false,
    "pycharm": {
     "name": "#%%\n",
     "is_executing": false
    }
   }
  },
  {
   "cell_type": "code",
   "execution_count": 4,
   "outputs": [
    {
     "data": {
      "text/plain": "0      0\n1      0\n2      0\n3      0\n4      0\n      ..\n436    0\n437    0\n438    0\n439    0\n440    0\nLength: 441, dtype: int64"
     },
     "metadata": {},
     "output_type": "execute_result",
     "execution_count": 4
    }
   ],
   "source": [
    "X.isnull().sum()"
   ],
   "metadata": {
    "collapsed": false,
    "pycharm": {
     "name": "#%%\n",
     "is_executing": false
    }
   }
  },
  {
   "cell_type": "code",
   "execution_count": 5,
   "outputs": [
    {
     "name": "stdout",
     "text": [
      "['0' '1']\n",
      "(2, 441)\n",
      "54108\n",
      "(441, 441)\n",
      "(441, 441)\n"
     ],
     "output_type": "stream"
    }
   ],
   "source": [
    "import numpy as np\n",
    "from numpy.linalg import det, inv\n",
    "import matplotlib.pyplot as plt\n",
    "from sklearn.preprocessing import StandardScaler\n",
    "from sklearn.model_selection import train_test_split\n",
    "\n",
    "X_train, X_test, y_train, y_test = train_test_split(X, y, test_size=0.2, random_state=0)\n",
    "\n",
    "#sc = StandardScaler()\n",
    "#X_train = sc.fit_transform(X_train)\n",
    "#X_test = sc.transform(X_test)\n",
    "\n",
    "def ldaLearn(X,y):\n",
    "    a = np.unique(y)\n",
    "    print(a)\n",
    "    means = np.zeros((len(a), X.shape[1]))\n",
    "    c=0\n",
    "    x1=[]\n",
    "    x2=[]\n",
    "    y=np.array(y)\n",
    "    print(means.shape)\n",
    "    print(X.shape[0])\n",
    "    for k in X:\n",
    "        if c==X.shape[0]:\n",
    "            break\n",
    "        if y[c][0] == '0':\n",
    "            x1.append(k)\n",
    "            c=c+1\n",
    "        else:\n",
    "            x2.append(k)\n",
    "            c=c+1\n",
    "    x1=np.array(x1)\n",
    "    x2=np.array(x2)\n",
    "    means[0] = x1.mean(axis=0)\n",
    "    means[1] = x2.mean(axis=0)\n",
    "    X=np.array(X)\n",
    "    y=y.flatten()\n",
    "    S1 = np.matmul(np.transpose((X[y=='0']-means[0])),(X[y=='0']-means[0]))\n",
    "    print(S1.shape)\n",
    "    S2 = np.matmul(np.transpose((X[y=='1']-means[1])),(X[y=='1']-means[1]))\n",
    "    print(S2.shape)\n",
    "    covmat = np.cov(X.T)\n",
    "    return means, covmat,S1,S2\n",
    "\n",
    "def ldaTest(means,covmat,Xtest,ytest):\n",
    "\n",
    "    #pre = np.round(pre)\n",
    "    g = 1 / np.sqrt((2*np.pi**means.shape[1])*det(covmat))\n",
    "    ll = np.zeros((Xtest.shape[0], means.shape[0]))\n",
    "    temp = np.array(Xtest)\n",
    "    for i in range(Xtest.shape[0]):\n",
    "        for h in range(means.shape[0]):\n",
    "            b = temp[i] - means[int(h) - 1]\n",
    "            t = (-1/2)*np.dot(np.dot(b.T, inv(covmat)), b)\n",
    "            ll[i,int(h)-1] = g * np.e**t \n",
    "            \n",
    "    ypred = np.argmax(ll, axis=1)\n",
    "    \n",
    "    acc = 0\n",
    "    ypred=np.array(ypred)\n",
    "    ytest=np.array(ytest)\n",
    "    print(int(ypred[0]))\n",
    "    print(int(ytest[0][0]))\n",
    "    for k in range(len(ypred)):\n",
    "        if int(ypred[k]) == int(ytest[k][0]):\n",
    "            acc += 1\n",
    "    acc = acc / len(ypred)\n",
    "    return acc, np.array(ypred)\n",
    "# Load the sample data                                                                 \n",
    "\n",
    "X,y = X_train, y_train\n",
    "\n",
    "# LDA\n",
    "means,covmat,S1,S2 = ldaLearn(X,y)"
   ],
   "metadata": {
    "collapsed": false,
    "pycharm": {
     "name": "#%%\n",
     "is_executing": false
    }
   }
  },
  {
   "cell_type": "code",
   "execution_count": 6,
   "outputs": [
    {
     "name": "stdout",
     "text": [
      "[[-6.82411587e-07]\n",
      " [-8.48867543e-07]\n",
      " [-5.24239164e-07]\n",
      " ...\n",
      " [-4.93375637e-07]\n",
      " [-1.10698611e-06]\n",
      " [-6.65018425e-07]]\n",
      "[[-6.82411587e-07 -8.48867543e-07 -5.24239164e-07 ... -4.93375637e-07\n",
      "  -1.10698611e-06 -6.65018425e-07]]\n"
     ],
     "output_type": "stream"
    },
    {
     "data": {
      "text/plain": "<Figure size 432x288 with 1 Axes>",
      "image/png": "[encoded data removed]"
     },
     "metadata": {
      "needs_background": "light"
     },
     "output_type": "display_data"
    }
   ],
   "source": [
    "Sw = S1+S2\n",
    "W = np.matmul(np.linalg.inv(Sw),(means[0]-means[1]))\n",
    "#W=np.array([W])\n",
    "W = W.reshape([1,-1])\n",
    "n=np.dot(X_test,np.transpose(W))\n",
    "print(n)\n",
    "cY=np.matmul(W,np.array(np.transpose(X_test)))\n",
    "print(cY)\n",
    "\n",
    "Xp1=[]\n",
    "Xp2=[]\n",
    "c=0\n",
    "Yt=np.array(y_test)\n",
    "cY = np.transpose(cY)\n",
    "for k in cY:\n",
    "    if Yt[c][0] == '0':\n",
    "        Xp1.append(k)\n",
    "        c=c+1\n",
    "    else:\n",
    "        Xp2.append(k)\n",
    "        c=c+1\n",
    "            \n",
    "Xp1=np.array(Xp1)\n",
    "Xp2=np.array(Xp2)\n",
    "\n",
    "plt.plot(Xp1.transpose(),0,'ro')\n",
    "plt.plot(Xp2.transpose(),1,'g+')\n",
    "plt.show()"
   ],
   "metadata": {
    "collapsed": false,
    "pycharm": {
     "name": "#%%\n",
     "is_executing": false
    }
   }
  },
  {
   "cell_type": "code",
   "execution_count": 13,
   "outputs": [
    {
     "name": "stdout",
     "text": [
      "0\n",
      "0\n",
      "W matrix :  [[-2.05442730e-09  2.79983977e-09 -8.59574456e-10 -2.36171720e-09\n",
      "   3.29356273e-09 -1.41691744e-09 -1.40350286e-09  3.42521972e-09\n",
      "  -2.65549258e-09 -9.93677978e-10  4.85676979e-09 -1.03636743e-08\n",
      "   1.26224049e-08 -8.33433818e-09  4.03958338e-09 -2.37126073e-09\n",
      "   2.49041902e-09 -1.02461289e-09 -1.07515460e-09 -7.50175008e-10\n",
      "   3.75884817e-09 -3.04590745e-09 -8.49882037e-10  4.34310788e-09\n",
      "  -3.90244801e-09  7.72542250e-10  2.40006065e-09 -5.34172530e-09\n",
      "   5.15845738e-09 -6.52332215e-10 -4.16103216e-09  4.56890540e-09\n",
      "  -2.76705318e-09  2.22962550e-09 -1.82817852e-09 -1.22303825e-09\n",
      "   4.04509603e-09 -4.61079242e-09  2.53931927e-09 -8.94266315e-10\n",
      "   1.67590959e-09 -2.80283828e-09  4.02306298e-09 -5.35113616e-09\n",
      "   4.87767775e-09 -1.56652779e-09 -1.29778013e-09  1.76751762e-09\n",
      "  -1.65253126e-09  1.09540918e-09 -7.97938208e-10 -1.28940599e-09\n",
      "   4.37284976e-09 -4.21450874e-09  1.97064719e-09 -1.63287088e-09\n",
      "   2.44655409e-09 -1.19432806e-09 -5.68079002e-10 -6.83025866e-10\n",
      "   1.81582648e-09 -6.85101877e-10 -2.75780221e-10  9.63393646e-10\n",
      "  -5.67413063e-10 -3.80066002e-10  7.52211856e-10 -1.43192592e-09\n",
      "   5.87832276e-10  1.51083564e-09 -3.58456765e-09  2.74608275e-09\n",
      "   1.84596186e-10 -2.61146569e-09  2.74567352e-09 -2.96267126e-09\n",
      "   2.00723937e-09 -1.24042919e-09  2.35046486e-09 -2.82747934e-09\n",
      "   4.60292374e-09 -6.42596039e-09  6.79438719e-09 -6.47761325e-09\n",
      "   4.14256873e-09 -2.16129568e-09  1.97102394e-09 -8.32955424e-10\n",
      "  -3.98640821e-10 -1.02897300e-09  2.80460431e-09 -4.03890881e-09\n",
      "   2.71369964e-09  1.82627123e-10 -1.69651019e-09  3.07244937e-10\n",
      "   1.25875878e-09 -8.77296791e-10  3.67364188e-10 -1.45054152e-09\n",
      "   2.53134010e-09 -2.26012977e-09  4.05771571e-10  8.32970557e-10\n",
      "  -1.86372455e-09  3.59058674e-09 -2.76361645e-09  1.01456433e-09\n",
      "  -2.65783319e-10 -4.56378419e-10  1.30917523e-09 -1.59510428e-09\n",
      "   3.02796605e-09 -4.00165053e-09  1.50418718e-09 -9.31470429e-10\n",
      "   1.57114226e-10  3.88561085e-10 -1.87415296e-09  4.46408600e-09\n",
      "  -4.92652431e-09  4.21157188e-09 -1.15628096e-09 -2.24095244e-09\n",
      "   2.82894143e-09 -2.19984258e-09 -5.13582409e-10  1.70831072e-10\n",
      "   4.62887535e-09 -7.59775764e-09  6.50795921e-09 -2.25629791e-09\n",
      "  -2.01482501e-09  2.83473756e-09 -1.29144441e-09  1.66331977e-09\n",
      "  -1.25727100e-09 -1.80553175e-11  7.62501545e-10 -1.57355460e-09\n",
      "   1.13974867e-09  4.81791730e-10 -1.06957132e-09 -5.58293997e-10\n",
      "   1.45593007e-09 -2.53735977e-09  1.17402722e-09  7.65650836e-11\n",
      "  -7.16932310e-10 -3.36498925e-10  2.01713253e-09 -2.90797974e-09\n",
      "   2.69487911e-09 -2.61271733e-09  2.07217391e-09 -3.29769137e-09\n",
      "   3.54151271e-09 -2.20146777e-09  1.98432413e-09 -2.25077766e-09\n",
      "   3.43119204e-09 -5.29048013e-09  6.56638257e-09 -8.28120907e-09\n",
      "   4.13712119e-09  1.56417801e-09 -6.32502924e-09  6.74894964e-09\n",
      "  -2.45480027e-09 -3.47057452e-10  1.34943902e-09 -2.89997162e-09\n",
      "   3.40949713e-09 -1.46907094e-09 -2.08875296e-09  3.98906837e-09\n",
      "  -3.65686320e-09  3.44005455e-09 -2.83547267e-09  1.99325080e-09\n",
      "  -7.68082737e-10 -1.40548826e-09  3.15286276e-09 -2.61098037e-09\n",
      "   3.66587214e-09 -5.10090804e-09  5.32808483e-09 -1.78501179e-09\n",
      "  -1.24162845e-09  2.85391362e-09 -9.12729486e-10 -1.45011189e-09\n",
      "   1.81677480e-09  8.16414913e-10 -2.15641579e-09  2.87937755e-09\n",
      "  -1.12724800e-09 -6.33668181e-10  2.05347268e-09 -1.97985574e-10\n",
      "  -4.12337529e-10  1.42595269e-10 -1.42147802e-09  2.55044796e-10\n",
      "   2.51730724e-10 -7.03686023e-10  2.81661580e-11  9.46910404e-10\n",
      "  -4.57009611e-09  6.67024790e-09 -8.35031214e-09  5.11279873e-09\n",
      "  -3.44077721e-09 -2.72581307e-10  7.73477859e-10 -1.42277927e-09\n",
      "   2.54180771e-10 -1.39122144e-09  1.51409581e-09 -2.23698974e-09\n",
      "   2.61494486e-09 -2.56471205e-09 -4.10619201e-10  4.44236699e-09\n",
      "  -9.92708012e-09  1.10894609e-08 -9.50975499e-09  7.29307856e-09\n",
      "  -6.80211242e-09  7.06674433e-09 -2.93141065e-09  7.34460004e-10\n",
      "  -5.99557069e-10  2.19133918e-09 -2.63150303e-09  2.58198000e-09\n",
      "  -2.09729620e-09  2.42334102e-09 -1.85447221e-10 -3.54217150e-10\n",
      "   1.91103134e-09 -2.23815180e-09  1.60757638e-09 -2.99181200e-10\n",
      "   2.95395839e-10 -9.05227640e-10  2.70664828e-09 -1.30926342e-09\n",
      "  -1.64371958e-10  1.50445909e-09 -1.93447133e-10 -1.76073055e-09\n",
      "   2.93172257e-09 -3.07892939e-09  1.13470503e-09 -1.67338339e-09\n",
      "   3.39948413e-09 -4.64510446e-09  3.25208855e-09 -1.73723721e-09\n",
      "   2.99287553e-10  2.97499829e-10  8.24150859e-10 -2.35423735e-09\n",
      "   3.56627255e-09 -3.87940980e-09  1.88091650e-09 -8.05880899e-10\n",
      "  -1.57424952e-09  2.62932128e-09 -2.01508552e-09 -1.40366027e-09\n",
      "   3.94691072e-09 -4.89927085e-09  3.42986702e-09 -2.39683663e-09\n",
      "  -7.35759621e-10  2.30830305e-09 -9.71461412e-10 -8.43346330e-10\n",
      "   9.87597990e-10 -1.17535447e-09  1.64153505e-10 -9.47666039e-10\n",
      "   1.11093811e-09  9.88294213e-10 -3.50362637e-09  3.50033590e-09\n",
      "  -1.40724478e-09 -1.01162204e-09  1.22657800e-09 -1.32163103e-09\n",
      "   1.99507842e-09  1.70104988e-10 -1.63004065e-09  1.38410185e-09\n",
      "   7.62501520e-10  1.16712238e-10 -1.61257572e-09  3.04910860e-11\n",
      "   2.05603777e-09 -5.74104559e-10 -2.26378080e-09  3.48026391e-09\n",
      "  -1.00708895e-09 -3.73471498e-10  1.74281679e-10  6.44277619e-10\n",
      "  -2.04249717e-09  4.18926030e-09 -4.84926636e-09  1.56293553e-09\n",
      "   5.25784380e-10  1.06357774e-10 -3.48426635e-10  3.10676834e-10\n",
      "   7.54515505e-10 -2.06501607e-09  1.01523879e-09 -1.10074765e-09\n",
      "   1.44718911e-09 -1.52031631e-09  1.16337801e-09 -1.10039071e-09\n",
      "  -9.34654046e-10  3.68661809e-09 -4.89024830e-09  4.23543759e-09\n",
      "  -3.42735944e-09  3.04568862e-09 -2.63069233e-09  3.02182362e-10\n",
      "   4.63010522e-10  2.59283713e-10 -8.63902468e-10  2.26208589e-09\n",
      "  -4.33416111e-09  3.73851916e-09 -1.43375173e-09  5.18749593e-10\n",
      "  -2.37076002e-09  4.49695146e-09 -5.67150763e-09  5.61431958e-09\n",
      "  -4.41004655e-09  3.20745187e-09 -3.00780145e-09  2.10795576e-09\n",
      "  -1.29606153e-09  1.34823373e-09 -2.20273721e-09  3.76277515e-09\n",
      "  -5.63051959e-09  5.44070724e-09 -2.80849847e-09  1.55973870e-10\n",
      "   2.51986654e-09 -3.10397752e-09  6.99778740e-10  2.18422856e-09\n",
      "  -4.04278164e-09  2.18172137e-09 -3.70075929e-10 -2.22586524e-09\n",
      "   4.09192163e-09 -3.84188027e-09  1.16391506e-09  4.01800477e-09\n",
      "  -7.10181990e-09  8.44887223e-09 -8.33793773e-09  6.15942051e-09\n",
      "  -5.26817702e-09  3.24323538e-09 -1.41001329e-09  4.42136839e-10\n",
      "  -8.94367162e-10  6.33774610e-10  1.43684562e-09 -2.95023241e-09\n",
      "   2.92674816e-09 -1.13412320e-09 -1.13218178e-09  3.89778811e-10\n",
      "   8.42358817e-10 -2.59543757e-09  3.81184974e-09 -2.36966809e-09\n",
      "  -1.67417284e-09  5.25066496e-09 -6.56430498e-09  5.54981720e-09\n",
      "  -3.02167952e-09 -8.20875387e-10  4.25572121e-09 -6.19481580e-09\n",
      "   6.17140032e-09 -3.21949919e-09 -6.59928894e-10  2.19061937e-09\n",
      "  -3.93004086e-10 -2.10764840e-09  2.74230125e-09 -1.61420829e-09\n",
      "  -2.32643581e-10  6.68294631e-10 -1.29750577e-09  8.64538280e-10\n",
      "   2.96542178e-10 -3.10993302e-09  6.51333814e-09 -7.16495199e-09\n",
      "   4.93650390e-09 -6.95569841e-10 -2.35107403e-09  3.27796277e-09\n",
      "  -3.80909634e-09  2.76613631e-09  3.31204291e-10 -1.67882188e-09\n",
      "  -1.24972763e-09  2.86754668e-09 -1.43298059e-09 -9.44767515e-11\n",
      "   5.85266973e-10 -1.28551998e-09  3.53293402e-09 -3.26818278e-09\n",
      "   2.18494146e-10  1.58962596e-09 -3.17001187e-09  2.96727061e-09\n",
      "  -1.66120659e-09  4.53442524e-10 -2.16342419e-10  9.37012100e-10\n",
      "  -1.37804526e-09  1.62272409e-09 -4.92324595e-10 -1.03195107e-09\n",
      "   4.54914153e-11]]\n",
      "LDA Accuracy = 0.916189244132323\n"
     ],
     "output_type": "stream"
    }
   ],
   "source": [
    "ldaacc,ldares = ldaTest(means,covmat,X_test,y_test)\n",
    "print(\"W matrix : \", W)\n",
    "print('LDA Accuracy = '+str(ldaacc))"
   ],
   "metadata": {
    "collapsed": false,
    "pycharm": {
     "name": "#%%\n",
     "is_executing": false
    }
   }
  },
  {
   "cell_type": "code",
   "execution_count": 22,
   "outputs": [
    {
     "name": "stderr",
     "text": [
      "C:\\ProgramData\\Anaconda3\\lib\\site-packages\\sklearn\\utils\\validation.py:724: DataConversionWarning: A column-vector y was passed when a 1d array was expected. Please change the shape of y to (n_samples, ), for example using ravel().\n",
      "  y = column_or_1d(y, warn=True)\n",
      "C:\\ProgramData\\Anaconda3\\lib\\site-packages\\sklearn\\ensemble\\forest.py:245: FutureWarning: The default value of n_estimators will change from 10 in version 0.20 to 100 in 0.22.\n",
      "  \"10 in version 0.20 to 100 in 0.22.\", FutureWarning)\n",
      "C:\\ProgramData\\Anaconda3\\lib\\site-packages\\ipykernel_launcher.py:21: DataConversionWarning: A column-vector y was passed when a 1d array was expected. Please change the shape of y to (n_samples,), for example using ravel().\n"
     ],
     "output_type": "stream"
    },
    {
     "name": "stdout",
     "text": [
      "[[7980    0]\n",
      " [ 678    0]]\n",
      "Accuracy0.9216909216909217\n"
     ],
     "output_type": "stream"
    }
   ],
   "source": [
    "#using built-in function\n",
    "from sklearn.model_selection import train_test_split\n",
    "from sklearn.preprocessing import StandardScaler\n",
    "from sklearn.discriminant_analysis import LinearDiscriminantAnalysis as LDA\n",
    "from sklearn.ensemble import RandomForestClassifier\n",
    "from sklearn.metrics import confusion_matrix\n",
    "from sklearn.metrics import accuracy_score\n",
    "\n",
    "X_train, X_test, y_train, y_test = train_test_split(X, y, test_size=0.2, random_state=0)\n",
    "\n",
    "sc = StandardScaler()\n",
    "X_train = sc.fit_transform(X_train)\n",
    "X_test = sc.transform(X_test)\n",
    "\n",
    "lda = LDA(n_components=1)\n",
    "X_train = lda.fit_transform(X_train, y_train)\n",
    "X_test = lda.transform(X_test)\n",
    "\n",
    "classifier = RandomForestClassifier(max_depth=2, random_state=0)\n",
    "\n",
    "classifier.fit(X_train, y_train)\n",
    "y_pred = classifier.predict(X_test)\n",
    "\n",
    "cm = confusion_matrix(y_test, y_pred)\n",
    "print(cm)\n",
    "print('Accuracy' + str(accuracy_score(y_test, y_pred)))"
   ],
   "metadata": {
    "collapsed": false,
    "pycharm": {
     "name": "#%%\n",
     "is_executing": false
    }
   }
  },
  {
   "cell_type": "code",
   "execution_count": 0,
   "outputs": [],
   "source": [],
   "metadata": {
    "collapsed": false,
    "pycharm": {
     "name": "#%%\n",
     "is_executing": false
    }
   }
  },
  {
   "cell_type": "code",
   "execution_count": null,
   "outputs": [],
   "source": [
    "\n"
   ],
   "metadata": {
    "collapsed": false,
    "pycharm": {
     "name": "#%%\n"
    }
   }
  }
 ],
 "metadata": {
  "kernelspec": {
   "display_name": "Python 3",
   "language": "python",
   "name": "python3"
  },
  "language_info": {
   "codemirror_mode": {
    "name": "ipython",
    "version": 2
   },
   "file_extension": ".py",
   "mimetype": "text/x-python",
   "name": "python",
   "nbconvert_exporter": "python",
   "pygments_lexer": "ipython2",
   "version": "2.7.6"
  },
  "pycharm": {
   "stem_cell": {
    "cell_type": "raw",
    "source": [],
    "metadata": {
     "collapsed": false
    }
   }
  }
 },
 "nbformat": 4,
 "nbformat_minor": 0
}